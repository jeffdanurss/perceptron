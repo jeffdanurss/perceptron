{
  "nbformat": 4,
  "nbformat_minor": 0,
  "metadata": {
    "colab": {
      "provenance": [],
      "authorship_tag": "ABX9TyPYHRlizuy0SK4ClazuzJVo",
      "include_colab_link": true
    },
    "kernelspec": {
      "name": "python3",
      "display_name": "Python 3"
    },
    "language_info": {
      "name": "python"
    }
  },
  "cells": [
    {
      "cell_type": "markdown",
      "metadata": {
        "id": "view-in-github",
        "colab_type": "text"
      },
      "source": [
        "<a href=\"https://colab.research.google.com/github/jeffdanurss/perceptron/blob/main/perceptron.ipynb\" target=\"_parent\"><img src=\"https://colab.research.google.com/assets/colab-badge.svg\" alt=\"Open In Colab\"/></a>"
      ]
    },
    {
      "cell_type": "code",
      "execution_count": 5,
      "metadata": {
        "id": "gwuxZVqacSxJ",
        "colab": {
          "base_uri": "https://localhost:8080/"
        },
        "outputId": "7b8783aa-6fb3-48ed-f88d-59b6aa594449"
      },
      "outputs": [
        {
          "output_type": "stream",
          "name": "stdout",
          "text": [
            "Predictions after training:\n",
            "Input: [0 0] -> Prediction: 0\n",
            "Input: [0 1] -> Prediction: 0\n",
            "Input: [1 0] -> Prediction: 0\n",
            "Input: [1 1] -> Prediction: 1\n"
          ]
        }
      ],
      "source": [
        "import numpy as np\n",
        "\n",
        "# Define the activation function (step function)\n",
        "def step_function(x):\n",
        "    return np.where(x >= 0, 1, 0)\n",
        "\n",
        "# Define the Perceptron class\n",
        "class Perceptron:\n",
        "    def __init__(self, input_size, learning_rate=0.1):\n",
        "        self.weights = np.zeros(input_size)  # Initialize weights\n",
        "        self.bias = 0  # Initialize bias\n",
        "        self.learning_rate = learning_rate\n",
        "\n",
        "    def predict(self, inputs):\n",
        "        # Make a prediction using the step function\n",
        "        weighted_sum = np.dot(inputs, self.weights) + self.bias\n",
        "        return step_function(weighted_sum)\n",
        "\n",
        "    def train(self, training_inputs, training_labels, epochs=10):\n",
        "        # Training the perceptron\n",
        "        for _ in range(epochs):\n",
        "            for inputs, label in zip(training_inputs, training_labels):\n",
        "                prediction = self.predict(inputs)\n",
        "                # Update weights and bias if the prediction is incorrect\n",
        "                error = label - prediction\n",
        "                self.weights += self.learning_rate * error * inputs\n",
        "                self.bias += self.learning_rate * error\n",
        "\n",
        "# Create training data (AND logic)\n",
        "training_inputs = np.array([[0, 0],\n",
        "                            [0, 1],\n",
        "                            [1, 0],\n",
        "                            [1, 1]])\n",
        "\n",
        "training_labels = np.array([0, 0, 0, 1])  # Outputs for AND operation\n",
        "\n",
        "# Create and train the perceptron\n",
        "perceptron = Perceptron(input_size=2)\n",
        "perceptron.train(training_inputs, training_labels, epochs=10)\n",
        "\n",
        "# Make predictions after training\n",
        "print(\"Predictions after training:\")\n",
        "for inputs in training_inputs:\n",
        "    print(f\"Input: {inputs} -> Prediction: {perceptron.predict(inputs)}\")\n"
      ]
    },
    {
      "cell_type": "code",
      "source": [],
      "metadata": {
        "id": "1W-uTUX7jVia"
      },
      "execution_count": null,
      "outputs": []
    }
  ]
}